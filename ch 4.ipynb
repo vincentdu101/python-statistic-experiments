{
 "cells": [
  {
   "cell_type": "code",
   "execution_count": 1,
   "metadata": {
    "collapsed": true
   },
   "outputs": [],
   "source": [
    "from __future__ import print_function\n",
    "import numpy as np"
   ]
  },
  {
   "cell_type": "code",
   "execution_count": 2,
   "metadata": {
    "collapsed": true
   },
   "outputs": [],
   "source": [
    "# basic operations with list/array\n",
    "data1 = [1, 2, 3, 4, 5]"
   ]
  },
  {
   "cell_type": "code",
   "execution_count": 7,
   "metadata": {
    "collapsed": true
   },
   "outputs": [],
   "source": [
    "arr1 = np.array(data1)\n",
    "data2 = [range(1, 5), range(5, 9)]"
   ]
  },
  {
   "cell_type": "code",
   "execution_count": 8,
   "metadata": {},
   "outputs": [
    {
     "data": {
      "text/plain": [
       "dtype('int64')"
      ]
     },
     "execution_count": 8,
     "metadata": {},
     "output_type": "execute_result"
    }
   ],
   "source": [
    "arr1.dtype"
   ]
  },
  {
   "cell_type": "code",
   "execution_count": 10,
   "metadata": {},
   "outputs": [
    {
     "name": "stdout",
     "output_type": "stream",
     "text": [
      "5\n",
      "2\n"
     ]
    }
   ],
   "source": [
    "print(arr1.size)\n",
    "print(len(data2))"
   ]
  },
  {
   "cell_type": "code",
   "execution_count": 13,
   "metadata": {},
   "outputs": [
    {
     "name": "stdout",
     "output_type": "stream",
     "text": [
      "[[0. 1. 2. 3. 4.]\n",
      " [5. 6. 7. 8. 9.]]\n",
      "(2, 5)\n",
      "[[0. 1.]\n",
      " [2. 3.]\n",
      " [4. 5.]\n",
      " [6. 7.]\n",
      " [8. 9.]]\n"
     ]
    }
   ],
   "source": [
    "# reshaping\n",
    "arr = np.arange(10, dtype=float).reshape((2, 5))\n",
    "print(arr)\n",
    "print(arr.shape)\n",
    "print(arr.reshape(5, 2))"
   ]
  },
  {
   "cell_type": "code",
   "execution_count": 20,
   "metadata": {},
   "outputs": [
    {
     "name": "stdout",
     "output_type": "stream",
     "text": [
      "[[0]\n",
      " [1]]\n"
     ]
    }
   ],
   "source": [
    "# add an axis\n",
    "a = np.array([0, 1])\n",
    "a_col = a[:, np.newaxis]\n",
    "print(a_col)"
   ]
  },
  {
   "cell_type": "code",
   "execution_count": 22,
   "metadata": {},
   "outputs": [
    {
     "name": "stdout",
     "output_type": "stream",
     "text": [
      "[[ 0.7085471  -0.68568825]\n",
      " [-1.90435726  2.42781977]\n",
      " [-0.85262891  1.52620428]\n",
      " [-0.26066943  0.48142563]]\n"
     ]
    }
   ],
   "source": [
    "# exercise \n",
    "# for each column find the row index of the minimum value\n",
    "# write a function standardize(X) that returns an array whose columns are\n",
    "# centered and scaled by (std-dev)\n",
    "X = np.random.randn(4, 2)\n",
    "print(X)"
   ]
  },
  {
   "cell_type": "code",
   "execution_count": 23,
   "metadata": {},
   "outputs": [
    {
     "name": "stdout",
     "output_type": "stream",
     "text": [
      "[-0.6856882467985358, -1.9043572635996373, -0.8526289099090703, -0.26066943442636936]\n"
     ]
    }
   ],
   "source": [
    "minValues = []\n",
    "for i in np.array(X):\n",
    "    minValues.append(np.min(i))\n",
    "print(minValues)"
   ]
  },
  {
   "cell_type": "code",
   "execution_count": 24,
   "metadata": {
    "collapsed": true
   },
   "outputs": [],
   "source": [
    "def standardize(X):\n",
    "    for i in np.array(X):\n",
    "        print(np.std(i))"
   ]
  },
  {
   "cell_type": "code",
   "execution_count": 25,
   "metadata": {},
   "outputs": [
    {
     "name": "stdout",
     "output_type": "stream",
     "text": [
      "0.6971176758933701\n",
      "2.1660885150693048\n",
      "1.18941659346511\n",
      "0.371047533693891\n"
     ]
    }
   ],
   "source": [
    "standardize(X)"
   ]
  },
  {
   "cell_type": "code",
   "execution_count": null,
   "metadata": {
    "collapsed": true
   },
   "outputs": [],
   "source": []
  }
 ],
 "metadata": {
  "kernelspec": {
   "display_name": "Python 3",
   "language": "python",
   "name": "python3"
  },
  "language_info": {
   "codemirror_mode": {
    "name": "ipython",
    "version": 3
   },
   "file_extension": ".py",
   "mimetype": "text/x-python",
   "name": "python",
   "nbconvert_exporter": "python",
   "pygments_lexer": "ipython3",
   "version": "3.6.6"
  }
 },
 "nbformat": 4,
 "nbformat_minor": 2
}
