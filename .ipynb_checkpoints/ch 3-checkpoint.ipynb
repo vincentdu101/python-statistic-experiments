{
 "cells": [
  {
   "cell_type": "code",
   "execution_count": 16,
   "metadata": {
    "collapsed": true
   },
   "outputs": [],
   "source": [
    "import os\n",
    "import math"
   ]
  },
  {
   "cell_type": "code",
   "execution_count": 3,
   "metadata": {
    "collapsed": true
   },
   "outputs": [],
   "source": [
    "# Exercise 1 - Functions\n",
    "\n",
    "def calc(x, y, operation = \"addition\"):\n",
    "    if (operation == \"multiply\"):\n",
    "        print(x * y)\n",
    "    elif (operation == \"divide\"):\n",
    "        print(x / y)\n",
    "    elif (operation == \"addition\"):\n",
    "        print(x + y)\n",
    "    elif (operation == \"subtraction\"):\n",
    "        print(x - y)\n",
    "    else: \n",
    "        print(\"operation not supported\")"
   ]
  },
  {
   "cell_type": "code",
   "execution_count": 4,
   "metadata": {},
   "outputs": [
    {
     "name": "stdout",
     "output_type": "stream",
     "text": [
      "20\n",
      "operation not supported\n"
     ]
    }
   ],
   "source": [
    "calc(5, 4, \"multiply\")\n",
    "calc(5, 4, \"something\")"
   ]
  },
  {
   "cell_type": "code",
   "execution_count": 5,
   "metadata": {
    "collapsed": true
   },
   "outputs": [],
   "source": [
    "# Exercise 2 - Functions + List + Loop\n",
    "def duplicate_removal(items):\n",
    "    previous = dict()\n",
    "    newList = []\n",
    "    for x in items:\n",
    "        if (previous.get(x) != True):\n",
    "            previous[x] = True\n",
    "            newList.append(x)\n",
    "    return newList"
   ]
  },
  {
   "cell_type": "code",
   "execution_count": 6,
   "metadata": {},
   "outputs": [
    {
     "name": "stdout",
     "output_type": "stream",
     "text": [
      "[1, 2, 3]\n"
     ]
    }
   ],
   "source": [
    "items = duplicate_removal([1, 2, 2, 3, 2])\n",
    "print(items)"
   ]
  },
  {
   "cell_type": "code",
   "execution_count": 14,
   "metadata": {},
   "outputs": [
    {
     "name": "stdout",
     "output_type": "stream",
     "text": [
      "{'Copyright': 1, '(c)': 1, '<year>': 1, '<copyright': 1, 'holder>.\\n': 1, 'All': 1, 'rights': 1, 'reserved.\\n': 1, '\\n': 1, 'Redistribution': 1, 'and': 6, 'use': 2, 'in': 2, 'source': 1, 'binary': 1, 'forms': 2, 'are': 1, 'permitted\\n': 1, 'provided': 1, 'that': 3, 'the': 3, 'above': 1, 'copyright': 1, 'notice': 1, 'this': 2, 'paragraph': 1, 'are\\n': 1, 'duplicated': 1, 'all': 1, 'such': 1, 'any': 1, 'documentation,\\n': 1, 'advertising': 1, 'materials,': 1, 'other': 1, 'materials': 1, 'related': 1, 'to': 2, 'such\\n': 1, 'distribution': 1, 'acknowledge': 1, 'software': 2, 'was': 1, 'developed\\n': 1, 'by': 1, '<organization>.': 1, 'The': 1, 'name': 1, 'of': 1, 'the\\n': 1, '<organization>': 1, 'may': 1, 'not': 1, 'be': 1, 'used': 1, 'endorse': 1, 'or': 1, 'promote': 1, 'products': 1, 'derived\\n': 1, 'from': 1, 'without': 1, 'specific': 1, 'prior': 1, 'written': 1, 'permission.\\n': 1, 'THIS': 1, 'SOFTWARE': 1, 'IS': 1, 'PROVIDED': 1, '``AS': 1, \"IS''\": 1, 'AND': 2, 'WITHOUT': 2, 'ANY': 1, 'EXPRESS': 1, 'OR\\n': 1, 'IMPLIED': 1, 'WARRANTIES,': 1, 'INCLUDING,': 1, 'LIMITATION,': 1, 'THE': 1, 'IMPLIED\\n': 1, 'WARRANTIES': 1, 'OF': 1, 'MERCHANTABILITY': 1, 'FITNESS': 1, 'FOR': 1, 'A': 1, 'PARTICULAR': 1, 'PURPOSE.\\n': 1}\n"
     ]
    }
   ],
   "source": [
    "# Exercise 3 - File I/O\n",
    "words = dict()\n",
    "fd = open(\"./license.txt\", \"r\") \n",
    "for line in fd.readlines():\n",
    "    for word in line.split(\" \"):\n",
    "        if (words.get(word) == None):\n",
    "            words[word] = 1\n",
    "        else:\n",
    "            words[word] += 1 \n",
    "print(words)"
   ]
  },
  {
   "cell_type": "code",
   "execution_count": 13,
   "metadata": {},
   "outputs": [],
   "source": [
    "# Exercise 4 - OOP\n",
    "# 1. Create a class Employee with 2 attributes provided in the constructor: name,\n",
    "# years_of_service. With one method salary with is obtained by 1500 + 100 *\n",
    "# years_of_service.\n",
    "# 2. Create a subclass Manager which redefine salary method 2500 + 120 * years_of_service.\n",
    "# 3. Create a small dictionary-nosed database where the key is the employee’s name. Populate\n",
    "# the database with: samples = Employee(‘lucy’, 3), Employee(‘john’, 1), Manager(‘julie’,\n",
    "# 10), Manager(‘paul’, 3)\n",
    "# 4. Return a table of made name, salary rows, i.e. a list of list [[name, salary]]\n",
    "# 5. Compute the average salary\n",
    "\n",
    "class Employee:\n",
    "    \n",
    "    def __init__(self, name, years_of_service):\n",
    "        self.name = name\n",
    "        self.years_of_service = years_of_service\n",
    "        \n",
    "    def salary(self):\n",
    "        return 1500 + 100 * self.years_of_service\n",
    "        \n",
    "class Manager(Employee):\n",
    "    \n",
    "    def __init__(self, name, years_of_service):\n",
    "        self.name = name\n",
    "        self.years_of_service = years_of_service\n",
    "    \n",
    "    def salary(self):\n",
    "        return 2500 + 120 * self.years_of_service\n",
    "    \n",
    "database = dict()\n",
    "database[\"lucy\"] = Employee(\"lucy\", 3)\n",
    "database[\"john\"] = Employee(\"john\", 1)\n",
    "database[\"julie\"] = Manager(\"julie\", 10)\n",
    "database[\"paul\"] = Manager(\"paul\", 3)\n",
    "    "
   ]
  },
  {
   "cell_type": "code",
   "execution_count": 14,
   "metadata": {},
   "outputs": [
    {
     "name": "stdout",
     "output_type": "stream",
     "text": [
      "['lucy', 3]\n",
      "['john', 1]\n",
      "['julie', 10]\n",
      "['paul', 3]\n"
     ]
    }
   ],
   "source": [
    "for name in database.keys():\n",
    "    print([database[name].name, database[name].years_of_service])"
   ]
  },
  {
   "cell_type": "code",
   "execution_count": 15,
   "metadata": {},
   "outputs": [
    {
     "name": "stdout",
     "output_type": "stream",
     "text": [
      "2490.0\n"
     ]
    }
   ],
   "source": [
    "total_salary = 0\n",
    "for name in database.keys():\n",
    "    total_salary += database[name].salary()\n",
    "print(total_salary / len(database.keys()))"
   ]
  },
  {
   "cell_type": "code",
   "execution_count": null,
   "metadata": {
    "collapsed": true
   },
   "outputs": [],
   "source": []
  }
 ],
 "metadata": {
  "kernelspec": {
   "display_name": "Python 3",
   "language": "python",
   "name": "python3"
  },
  "language_info": {
   "codemirror_mode": {
    "name": "ipython",
    "version": 3
   },
   "file_extension": ".py",
   "mimetype": "text/x-python",
   "name": "python",
   "nbconvert_exporter": "python",
   "pygments_lexer": "ipython3",
   "version": "3.6.6"
  }
 },
 "nbformat": 4,
 "nbformat_minor": 2
}
