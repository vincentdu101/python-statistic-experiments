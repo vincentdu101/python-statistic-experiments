{
 "cells": [
  {
   "cell_type": "code",
   "execution_count": 4,
   "metadata": {
    "collapsed": true
   },
   "outputs": [],
   "source": [
    "# 1. Read the iris dataset at ‘https://github.com/neurospin/pystatsml/tree/master/datasets/\n",
    "# iris.csv’\n",
    "# 2. Print column names\n",
    "# 3. Get numerical columns\n",
    "# 4. For each species compute the mean of numerical columns and store it in a stats table\n",
    "# like:\n",
    "\n",
    "import pandas as pd\n",
    "import sqlite3\n",
    "import tempfile, os.path"
   ]
  },
  {
   "cell_type": "code",
   "execution_count": 14,
   "metadata": {},
   "outputs": [],
   "source": [
    "tmpdir = tempfile.gettempdir()\n",
    "db_filename = os.path.join(tmpdir, \"iris.db\")\n",
    "conn = sqlite3.connect(db_filename)\n",
    "\n",
    "# iris dataset\n",
    "url = \"iris.csv\"\n",
    "\n",
    "# read in data using pandas\n",
    "iris = pd.read_csv(url, error_bad_lines=False)\n",
    "iris.to_sql(\"iris\", conn, if_exists=\"replace\")"
   ]
  },
  {
   "cell_type": "code",
   "execution_count": 15,
   "metadata": {},
   "outputs": [
    {
     "name": "stdout",
     "output_type": "stream",
     "text": [
      "   index  sepal_length  sepal_width  petal_length  petal_width species\n",
      "0      0           5.1          3.5           1.4          0.2  setosa\n",
      "1      1           4.9          3.0           1.4          0.2  setosa\n",
      "2      2           4.7          3.2           1.3          0.2  setosa\n",
      "3      3           4.6          3.1           1.5          0.2  setosa\n",
      "4      4           5.0          3.6           1.4          0.2  setosa\n",
      "Index(['sepal_length', 'sepal_width', 'petal_length', 'petal_width',\n",
      "       'species'],\n",
      "      dtype='object')\n"
     ]
    }
   ],
   "source": [
    "# read results into a pandas dataframe\n",
    "iris_sql = pd.read_sql_query(\"select * from iris\", conn)\n",
    "\n",
    "# first five rows\n",
    "print(iris_sql.head())\n",
    "\n",
    "# print column names\n",
    "print(iris.columns)\n",
    "\n",
    "# get numerical columns\n",
    "print(iris)"
   ]
  },
  {
   "cell_type": "code",
   "execution_count": 17,
   "metadata": {},
   "outputs": [
    {
     "name": "stdout",
     "output_type": "stream",
     "text": [
      "            index  sepal_length  sepal_width  petal_length  petal_width\n",
      "species                                                                \n",
      "setosa       24.5         5.006        3.428         1.462        0.246\n",
      "versicolor   74.5         5.936        2.770         4.260        1.326\n",
      "virginica   124.5         6.588        2.974         5.552        2.026\n"
     ]
    }
   ],
   "source": [
    "# For each species compute the mean of numerical columns and store it in \n",
    "# a stats table\n",
    "print(iris_sql.groupby(\"species\").mean())"
   ]
  },
  {
   "cell_type": "code",
   "execution_count": null,
   "metadata": {
    "collapsed": true
   },
   "outputs": [],
   "source": []
  }
 ],
 "metadata": {
  "kernelspec": {
   "display_name": "Python 3",
   "language": "python",
   "name": "python3"
  },
  "language_info": {
   "codemirror_mode": {
    "name": "ipython",
    "version": 3
   },
   "file_extension": ".py",
   "mimetype": "text/x-python",
   "name": "python",
   "nbconvert_exporter": "python",
   "pygments_lexer": "ipython3",
   "version": "3.6.6"
  }
 },
 "nbformat": 4,
 "nbformat_minor": 2
}
