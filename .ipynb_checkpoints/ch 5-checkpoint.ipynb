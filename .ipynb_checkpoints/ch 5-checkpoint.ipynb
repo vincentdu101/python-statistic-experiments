{
 "cells": [
  {
   "cell_type": "code",
   "execution_count": 4,
   "metadata": {
    "collapsed": true
   },
   "outputs": [],
   "source": [
    "# 1. Read the iris dataset at ‘https://github.com/neurospin/pystatsml/tree/master/datasets/\n",
    "# iris.csv’\n",
    "# 2. Print column names\n",
    "# 3. Get numerical columns\n",
    "# 4. For each species compute the mean of numerical columns and store it in a stats table\n",
    "# like:\n",
    "\n",
    "import pandas as pd\n",
    "import sqlite3\n",
    "import tempfile, os.path"
   ]
  },
  {
   "cell_type": "code",
   "execution_count": 9,
   "metadata": {},
   "outputs": [
    {
     "name": "stderr",
     "output_type": "stream",
     "text": [
      "b'Skipping line 75: expected 1 fields, saw 5\\nSkipping line 124: expected 1 fields, saw 3\\nSkipping line 139: expected 1 fields, saw 11\\nSkipping line 162: expected 1 fields, saw 4\\nSkipping line 166: expected 1 fields, saw 2\\nSkipping line 168: expected 1 fields, saw 2\\nSkipping line 169: expected 1 fields, saw 2\\nSkipping line 170: expected 1 fields, saw 2\\nSkipping line 171: expected 1 fields, saw 2\\nSkipping line 172: expected 1 fields, saw 2\\nSkipping line 173: expected 1 fields, saw 2\\nSkipping line 174: expected 1 fields, saw 2\\nSkipping line 175: expected 1 fields, saw 2\\nSkipping line 176: expected 1 fields, saw 2\\nSkipping line 180: expected 1 fields, saw 2\\nSkipping line 181: expected 1 fields, saw 2\\nSkipping line 187: expected 1 fields, saw 2\\nSkipping line 195: expected 1 fields, saw 4\\nSkipping line 201: expected 1 fields, saw 2\\nSkipping line 206: expected 1 fields, saw 2\\nSkipping line 207: expected 1 fields, saw 2\\nSkipping line 208: expected 1 fields, saw 2\\nSkipping line 209: expected 1 fields, saw 2\\nSkipping line 210: expected 1 fields, saw 2\\nSkipping line 215: expected 1 fields, saw 2\\nSkipping line 216: expected 1 fields, saw 2\\nSkipping line 217: expected 1 fields, saw 2\\nSkipping line 224: expected 1 fields, saw 2\\nSkipping line 232: expected 1 fields, saw 4\\nSkipping line 237: expected 1 fields, saw 2\\nSkipping line 240: expected 1 fields, saw 2\\nSkipping line 241: expected 1 fields, saw 2\\nSkipping line 245: expected 1 fields, saw 2\\nSkipping line 246: expected 1 fields, saw 2\\nSkipping line 268: expected 1 fields, saw 2\\nSkipping line 403: expected 1 fields, saw 11\\nSkipping line 405: expected 1 fields, saw 11\\nSkipping line 448: expected 1 fields, saw 9\\nSkipping line 459: expected 1 fields, saw 9\\nSkipping line 471: expected 1 fields, saw 9\\nSkipping line 597: expected 1 fields, saw 3\\nSkipping line 601: expected 1 fields, saw 3\\nSkipping line 602: expected 1 fields, saw 11\\nSkipping line 670: expected 1 fields, saw 2\\nSkipping line 1992: expected 1 fields, saw 2\\nSkipping line 1993: expected 1 fields, saw 3\\nSkipping line 1994: expected 1 fields, saw 3\\nSkipping line 1995: expected 1 fields, saw 3\\nSkipping line 1996: expected 1 fields, saw 3\\nSkipping line 1997: expected 1 fields, saw 3\\nSkipping line 2004: expected 1 fields, saw 3\\nSkipping line 2005: expected 1 fields, saw 3\\nSkipping line 2006: expected 1 fields, saw 3\\nSkipping line 2007: expected 1 fields, saw 3\\nSkipping line 2008: expected 1 fields, saw 3\\nSkipping line 2009: expected 1 fields, saw 3\\n'\n",
      "/anaconda/lib/python3.6/site-packages/pandas/core/generic.py:1345: UserWarning: The spaces in these column names will not be changed. In pandas versions < 0.14, spaces were converted to underscores.\n",
      "  chunksize=chunksize, dtype=dtype)\n"
     ]
    }
   ],
   "source": [
    "tmpdir = tempfile.gettempdir()\n",
    "db_filename = os.path.join(tmpdir, \"iris.db\")\n",
    "conn = sqlite3.connect(db_filename)\n",
    "\n",
    "# iris dataset\n",
    "url = \"iris.csv\"\n",
    "\n",
    "# read in data using pandas\n",
    "iris = pd.read_csv(url, error_bad_lines=False)\n",
    "iris.to_sql(\"iris\", conn, if_exists=\"replace\")"
   ]
  },
  {
   "cell_type": "code",
   "execution_count": 10,
   "metadata": {},
   "outputs": [
    {
     "name": "stdout",
     "output_type": "stream",
     "text": [
      "Index(['<!DOCTYPE html>'], dtype='object')\n"
     ]
    }
   ],
   "source": [
    "# read results into a pandas dataframe\n",
    "\n",
    "\n",
    "print(iris.columns)"
   ]
  },
  {
   "cell_type": "code",
   "execution_count": null,
   "metadata": {
    "collapsed": true
   },
   "outputs": [],
   "source": []
  }
 ],
 "metadata": {
  "kernelspec": {
   "display_name": "Python 3",
   "language": "python",
   "name": "python3"
  },
  "language_info": {
   "codemirror_mode": {
    "name": "ipython",
    "version": 3
   },
   "file_extension": ".py",
   "mimetype": "text/x-python",
   "name": "python",
   "nbconvert_exporter": "python",
   "pygments_lexer": "ipython3",
   "version": "3.6.6"
  }
 },
 "nbformat": 4,
 "nbformat_minor": 2
}
